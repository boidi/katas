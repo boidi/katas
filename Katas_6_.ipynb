{
 "cells": [
  {
   "cell_type": "markdown",
   "metadata": {},
   "source": [
    "# Katas 5"
   ]
  },
  {
   "cell_type": "code",
   "execution_count": null,
   "metadata": {},
   "outputs": [],
   "source": [
    "# pour selectionner les 10 derniers commentaires\n",
    "SELECT contenu FROM my_app.users_comments \n",
    "order by comment_id desc limit 10;"
   ]
  },
  {
   "cell_type": "code",
   "execution_count": null,
   "metadata": {},
   "outputs": [],
   "source": [
    "\"\"\"(SELECT COUNT(*) as nbreAdress from sakila.address;\n",
    "(SELECT COUNT(*) as nbreAdress,sakila.address.postal_code from sakila.address\n",
    "group by sakila.address.postal_code)as codePoste;\"\"\"\n",
    "SELECT COUNT(*) as nbrecode,sakila.address.postal_code ,count(sakila.address.address)from sakila.address\n",
    "group by sakila.address.postal_code;\n"
   ]
  },
  {
   "cell_type": "markdown",
   "metadata": {},
   "source": [
    "## SQL"
   ]
  },
  {
   "cell_type": "code",
   "execution_count": null,
   "metadata": {},
   "outputs": [],
   "source": [
    "SELECT * FROM sakila.store inner join sakila.address on sakila.store.address_id = sakila.address.address_id ;\n",
    "2018_Z_001_65D38PE9DC2."
   ]
  },
  {
   "cell_type": "markdown",
   "metadata": {},
   "source": [
    "Selectionner les dix derniers commentaires ayant été inséré dans la base de donnée du projet commentaire (SQL pur / ou via Python au choix)."
   ]
  },
  {
   "cell_type": "markdown",
   "metadata": {},
   "source": [
    "Sur la base Salika compter le nombre d'adresse totale et le nombre de codes postaux uniques dans la table adresse."
   ]
  },
  {
   "cell_type": "markdown",
   "metadata": {},
   "source": [
    "Afficher 10 magasins avec leur addresse en une seule requête."
   ]
  },
  {
   "cell_type": "code",
   "execution_count": 24,
   "metadata": {},
   "outputs": [
    {
     "data": {
      "text/plain": [
       "<matplotlib.collections.PathCollection at 0x275b4592c88>"
      ]
     },
     "execution_count": 24,
     "metadata": {},
     "output_type": "execute_result"
    },
    {
     "data": {
      "image/png": "[encoded data removed]",
      "text/plain": [
       "<matplotlib.figure.Figure at 0x275b4684eb8>"
      ]
     },
     "metadata": {},
     "output_type": "display_data"
    }
   ],
   "source": [
    "import matplotlib.pyplot as plt\n",
    "import numpy as np\n",
    "mean = [0, 0]\n",
    "#cov = [[A, B], [C, D]]\n",
    "mean = [1, 5]\n",
    "cov = [[1, 0], [0, 1]]\n",
    "x, y = np.random.multivariate_normal(mean, cov, 5000).T\n",
    "plt.scatter(x,y)"
   ]
  },
  {
   "cell_type": "code",
   "execution_count": 22,
   "metadata": {},
   "outputs": [
    {
     "ename": "SyntaxError",
     "evalue": "invalid syntax (<ipython-input-22-907c195c1f30>, line 23)",
     "output_type": "error",
     "traceback": [
      "\u001b[1;36m  File \u001b[1;32m\"<ipython-input-22-907c195c1f30>\"\u001b[1;36m, line \u001b[1;32m23\u001b[0m\n\u001b[1;33m    plt.scatter(x,y)\u001b[0m\n\u001b[1;37m      ^\u001b[0m\n\u001b[1;31mSyntaxError\u001b[0m\u001b[1;31m:\u001b[0m invalid syntax\n"
     ]
    }
   ],
   "source": [
    "# algorithme CMA-ES \n",
    "# OPTIMISATION BAYESIENNE\n",
    "# idée je ne connais pas ma fonction on prend x au piff et calcul un f(x) \n",
    "#en donnant une intervalle d'insertitude entre 2 points connus \n",
    "#construire une representation de la fonction \n",
    "#f aletoire qui generalise \n",
    "import matplotlib.pyplot as plt\n",
    "import numpy as np\n",
    "# creer une fonction qui permet de parcourrir vecteur de moyenne \n",
    "\n",
    "\"\"\" \n",
    "mean = [[1, 5],[1, 0],[0, 1]]\n",
    "print(mean)\n",
    "\"\"\" \n",
    "mean = [[1, 5],[1, 0],[0, 1]]\n",
    "for i,n in mean:\n",
    "    x, y = np.random.multivariate_normal(((i,n), cov, 5000).T\n",
    "plt.scatter(x,y)"
   ]
  },
  {
   "cell_type": "markdown",
   "metadata": {},
   "source": [
    "Effectuer un export de la base de donnée du projet commentaire (au format .sql)."
   ]
  },
  {
   "cell_type": "markdown",
   "metadata": {},
   "source": [
    "## Maths "
   ]
  },
  {
   "cell_type": "markdown",
   "metadata": {},
   "source": [
    "Jusqu'à present je vous ai souvent de générer listes des nombres aléatoires que l'on rangeaait ensuite dans un tableu numpy. Cela revenait à générer des vecteurs aléatoires où chaque coordonnée du vecteur était indépendante les uns des autres. \n",
    "\n",
    "Néanmoins il est possible de générer des vecteurs alétoires où les valeurs des coordonnées dépendant des autres. Comment ? Et bien tout comme il existe des fonctions de plusieurs variables, il existe des lois de probabilités de plusieurs variables. L'un d'entre elle est la généralisation à plusieurs variables de la loi de Gauss.\n",
    "\n",
    "Les paramètres de cette loi sont un peu plus compliqués que la version 1D : \n",
    "\n",
    "la moyenne est désormais un vecteur, tandis que la variance est désormais une matrice.\n",
    "\n"
   ]
  },
  {
   "cell_type": "markdown",
   "metadata": {},
   "source": [
    "A l'aide de la fonction `multivariate_normal` coder une fonction créant une liste de vecteur aléatoire avec les paramètres suivant : \n",
    "m = (1, 1) var = ((5, 1, 1, 1))\n",
    "\n"
   ]
  },
  {
   "cell_type": "code",
   "execution_count": null,
   "metadata": {},
   "outputs": [],
   "source": [
    "loi multinormale \n",
    "# interpretation de la variance : plus la variance est grande plus les points sont diparatre(ecatés)\n",
    "\"\"\"v1=[1,0][0,1]\n",
    "v2 = [1, 0][5,1]\n",
    "v3 = [1, 5][0,1]\n",
    "v4 = [1, 5][5,1]\"\"\""
   ]
  },
  {
   "cell_type": "markdown",
   "metadata": {},
   "source": [
    "Les afficher dans un scatter plot"
   ]
  },
  {
   "cell_type": "code",
   "execution_count": null,
   "metadata": {},
   "outputs": [],
   "source": []
  },
  {
   "cell_type": "markdown",
   "metadata": {},
   "source": [
    "## Data "
   ]
  },
  {
   "cell_type": "markdown",
   "metadata": {},
   "source": [
    "Continuer l'exploration du dataset kickstarter."
   ]
  },
  {
   "cell_type": "code",
   "execution_count": null,
   "metadata": {},
   "outputs": [],
   "source": []
  }
 ],
 "metadata": {
  "kernelspec": {
   "display_name": "Python 3",
   "language": "python",
   "name": "python3"
  },
  "language_info": {
   "codemirror_mode": {
    "name": "ipython",
    "version": 3
   },
   "file_extension": ".py",
   "mimetype": "text/x-python",
   "name": "python",
   "nbconvert_exporter": "python",
   "pygments_lexer": "ipython3",
   "version": "3.6.4"
  }
 },
 "nbformat": 4,
 "nbformat_minor": 2
}
