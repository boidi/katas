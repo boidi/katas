{
 "cells": [
  {
   "cell_type": "markdown",
   "metadata": {},
   "source": [
    "# Katas 11"
   ]
  },
  {
   "cell_type": "markdown",
   "metadata": {},
   "source": [
    "## Modèle"
   ]
  },
  {
   "cell_type": "markdown",
   "metadata": {},
   "source": [
    "Créer un réseau de convolution avec trois couches de convolution avec keras puis 1 dense. Ajouter une couche de pooling après la dernière couche de convolution"
   ]
  },
  {
   "cell_type": "code",
   "execution_count": 15,
   "metadata": {},
   "outputs": [
    {
     "name": "stdout",
     "output_type": "stream",
     "text": [
      "_________________________________________________________________\n",
      "Layer (type)                 Output Shape              Param #   \n",
      "=================================================================\n",
      "conv2d_11 (Conv2D)           (None, 28, 28, 32)        2432      \n",
      "_________________________________________________________________\n",
      "conv2d_12 (Conv2D)           (None, 24, 24, 64)        51264     \n",
      "_________________________________________________________________\n",
      "max_pooling2d_6 (MaxPooling2 (None, 12, 12, 64)        0         \n",
      "_________________________________________________________________\n",
      "dense_9 (Dense)              (None, 12, 12, 1000)      65000     \n",
      "_________________________________________________________________\n",
      "dense_10 (Dense)             (None, 12, 12, 6)         6006      \n",
      "=================================================================\n",
      "Total params: 124,702\n",
      "Trainable params: 124,702\n",
      "Non-trainable params: 0\n",
      "_________________________________________________________________\n"
     ]
    }
   ],
   "source": [
    "#couche de convolution \n",
    "import keras\n",
    "import numpy as np\n",
    "from keras.models import Sequential\n",
    "#from keras.layers import Dense, Dropout, Flatten\n",
    "from keras.layers import Conv2D, MaxPooling2D\n",
    "from keras.layers.core import Activation\n",
    "#from keras.layers.core import Flatten\n",
    "from keras.layers.core import Dense\n",
    "model = Sequential()\n",
    "#input_shape =(784,)\n",
    "num_classes=6\n",
    "\n",
    "model.add(Conv2D(32, kernel_size=(5, 5), strides=(1, 1),\n",
    "                 activation='relu',\n",
    "                 input_shape=input_shape))\n",
    "model.add(Conv2D(64, (5, 5), activation='relu'))\n",
    "model.add(MaxPooling2D(pool_size=(2, 2)))\n",
    "model.add(Dense(1000, activation='relu'))\n",
    "model.add(Dense(num_classes, activation='softmax'))\n",
    "model.compile(loss=keras.losses.categorical_crossentropy, \n",
    "              optimizer=keras.optimizers.Adadelta(),\n",
    "              metrics=['accuracy'])\n",
    "model.summary()"
   ]
  },
  {
   "cell_type": "code",
   "execution_count": null,
   "metadata": {},
   "outputs": [],
   "source": [
    "\"\"\" def convolution(np_image, patch):\n",
    "    padding = (patch.shape[0] // 2, patch.shape[1] // 2)\n",
    "    newImage = np.zeros_like(np_image)\n",
    "    for x in range(padding[0], np_image.shape[0] - padding[0]):\n",
    "        for y in range(padding[1], np_image.shape[1] - padding[1]):\n",
    "            \n",
    "            subImage = np_image[x-padding[0]:x + padding[0] + 1, y - padding[1]: y + padding[1] + 1]\n",
    "            \n",
    "            newImage[x, y] = np.sum(subImage * patch)\n",
    "    return newImage\"\"\""
   ]
  },
  {
   "cell_type": "markdown",
   "metadata": {},
   "source": [
    "## Math"
   ]
  },
  {
   "cell_type": "markdown",
   "metadata": {},
   "source": [
    "Afficher le graphe de la fonction $\\frac{1}{\\sigma \\sqrt{\\pi} } exp(\\frac{(x-\\mu)^2}{\\sigma^2})$ pour les couples de valeur $(\\mu, \\sigma)$ suivant : (0, 1), (10, 0.01), (-1, 100)"
   ]
  },
  {
   "cell_type": "code",
   "execution_count": 2,
   "metadata": {},
   "outputs": [
    {
     "name": "stdout",
     "output_type": "stream",
     "text": [
      "1.0\n"
     ]
    }
   ],
   "source": [
    "import math\n",
    "import numpy as np\n",
    "from math import *\n",
    "import matplotlib.pyplot as plt\n",
    "def f(x):\n",
    "    return sqrt(x)\n",
    "f(4)\n",
    "print(exp(0))"
   ]
  },
  {
   "cell_type": "code",
   "execution_count": 7,
   "metadata": {},
   "outputs": [],
   "source": [
    "def f2(x,sig,u):\n",
    "    return 1/sig * f(pi) * exp((i-u)**2/sig**2)"
   ]
  },
  {
   "cell_type": "code",
   "execution_count": 14,
   "metadata": {
    "scrolled": true
   },
   "outputs": [
    {
     "data": {
      "image/png": "[encoded data removed]",
      "text/plain": [
       "<matplotlib.figure.Figure at 0x212683959b0>"
      ]
     },
     "metadata": {},
     "output_type": "display_data"
    },
    {
     "data": {
      "image/png": "[encoded data removed]",
      "text/plain": [
       "<matplotlib.figure.Figure at 0x212683a6ba8>"
      ]
     },
     "metadata": {},
     "output_type": "display_data"
    },
    {
     "data": {
      "image/png": "[encoded data removed]",
      "text/plain": [
       "<matplotlib.figure.Figure at 0x21268338208>"
      ]
     },
     "metadata": {},
     "output_type": "display_data"
    }
   ],
   "source": [
    "#si sigma =0\n",
    "x = np.arange(1,10,0.1)\n",
    "y1 = []\n",
    "y2 =[]\n",
    "y = []\n",
    "y2=[]\n",
    "for i in x:\n",
    "    y1.append(f2(i,1,0))\n",
    "    y.append(f2(i,10, 0.01))\n",
    "    y2.append(f2(i,10, 0.01))\n",
    "    \n",
    "#my_f(x,10,0.01)\n",
    "#my_f(x,1,0)\n",
    "plt.plot(x,y1)\n",
    "plt.show()\n",
    "plt.plot(x,y)\n",
    "plt.show()\n",
    "plt.plot(x,y2)\n",
    "plt.show()"
   ]
  },
  {
   "cell_type": "code",
   "execution_count": null,
   "metadata": {},
   "outputs": [],
   "source": []
  },
  {
   "cell_type": "markdown",
   "metadata": {},
   "source": [
    "### Introduction à la notion de valeur propre. \n",
    "\n",
    "\n",
    "Calculer à la main le produit de $A = \\pmatrix{ 3, 0 \\\\ 0, 5}$  par $v = \\pmatrix{1 \\\\ 0}$ exprimer le résultat en fonction de v"
   ]
  },
  {
   "cell_type": "code",
   "execution_count": null,
   "metadata": {},
   "outputs": [],
   "source": [
    "3v = A"
   ]
  },
  {
   "cell_type": "markdown",
   "metadata": {},
   "source": [
    "Calculer à la main le produit de $A = \\pmatrix{ 1, 1 \\\\ 1, 1}$  par $v = \\pmatrix{1 \\\\ 1}$ exprimer le résultat en fonction de v"
   ]
  },
  {
   "cell_type": "code",
   "execution_count": null,
   "metadata": {},
   "outputs": [],
   "source": [
    "#les valeurs propre est une multiplication singuliere \n",
    "#une matice est 1 object qui agit sur des vecteur \n",
    "#vec elementaires st des objets de base de l'algèbre lineaire '"
   ]
  },
  {
   "cell_type": "markdown",
   "metadata": {},
   "source": [
    "## Data"
   ]
  },
  {
   "cell_type": "markdown",
   "metadata": {},
   "source": [
    "Faire tourner un t-sne sur le jeu de donnée kickstarter"
   ]
  },
  {
   "cell_type": "code",
   "execution_count": null,
   "metadata": {},
   "outputs": [],
   "source": []
  },
  {
   "cell_type": "markdown",
   "metadata": {},
   "source": [
    "Faire tourner une PCA sur le jeu de donnée kickstarter. Combien de variance explique les 3 premiers axes principaux"
   ]
  },
  {
   "cell_type": "code",
   "execution_count": null,
   "metadata": {},
   "outputs": [],
   "source": []
  }
 ],
 "metadata": {
  "kernelspec": {
   "display_name": "Python 3",
   "language": "python",
   "name": "python3"
  },
  "language_info": {
   "codemirror_mode": {
    "name": "ipython",
    "version": 3
   },
   "file_extension": ".py",
   "mimetype": "text/x-python",
   "name": "python",
   "nbconvert_exporter": "python",
   "pygments_lexer": "ipython3",
   "version": "3.6.4"
  }
 },
 "nbformat": 4,
 "nbformat_minor": 2
}
