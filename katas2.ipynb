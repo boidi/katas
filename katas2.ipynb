{
 "cells": [
  {
   "cell_type": "markdown",
   "metadata": {},
   "source": [
    "# Katas\n",
    "\n",
    "Car simplement connaître ne suffit plus désormais, seule la maîtrise est acceptable.\n",
    "\n",
    "Des exercices de révisions et de complément réguliers afin de parler couramment le python."
   ]
  },
  {
   "cell_type": "markdown",
   "metadata": {},
   "source": [
    "Créer un vecteur de valeurs contenant 100 valeurs distribués sur une loi uniforme en -5 et 5"
   ]
  },
  {
   "cell_type": "code",
   "execution_count": 10,
   "metadata": {},
   "outputs": [
    {
     "data": {
      "text/plain": [
       "100"
      ]
     },
     "execution_count": 10,
     "metadata": {},
     "output_type": "execute_result"
    }
   ],
   "source": [
    "import pandas as pd \n",
    "import numpy as np\n",
    "a = np.random.uniform(-5,5, size=100)\n",
    "len(a)\n"
   ]
  },
  {
   "cell_type": "markdown",
   "metadata": {},
   "source": [
    "Redimensionner ce vecteur en une matrice 10x10"
   ]
  },
  {
   "cell_type": "markdown",
   "metadata": {},
   "source": [
    "On rappelle qu'une matrice peut être vue comme l'assemblage de vecteurs colonnes et que la multiplication $A * v = \\pmatrix{ 1, 2 \\\\ 2, 5} * \\pmatrix{1 \\\\ 3}$  revient à faire une combinaison linéaire des colonnes de la matrice par les coefficients du vecteur : $\\pmatrix{ 1, 2 \\\\ 2, 5} * \\pmatrix{1 \\\\ 3} = \\pmatrix{ 1 \\\\ 2} * 1 +  \\pmatrix{ 2 \\\\ 5} * 3$ A l'aide d'une boucle for, coder une fonction qui implémente la multiplication matricielle."
   ]
  },
  {
   "cell_type": "code",
   "execution_count": 7,
   "metadata": {},
   "outputs": [
    {
     "data": {
      "text/plain": [
       "(10, 10)"
      ]
     },
     "execution_count": 7,
     "metadata": {},
     "output_type": "execute_result"
    }
   ],
   "source": [
    "# to reshape the array to matrix(10,1à)\n",
    "b=a.reshape(10,10)\n",
    "b.shape"
   ]
  },
  {
   "cell_type": "code",
   "execution_count": 1,
   "metadata": {},
   "outputs": [],
   "source": [
    "def matrix_vector_multiplication(mat, vect):\n",
    "    result = []\n",
    "    \n",
    "        \n",
    "    \n",
    "    \n",
    "    "
   ]
  },
  {
   "cell_type": "markdown",
   "metadata": {},
   "source": [
    "Charger le jeu de donnée sur les écoles de mardi"
   ]
  },
  {
   "cell_type": "code",
   "execution_count": 15,
   "metadata": {
    "scrolled": false
   },
   "outputs": [],
   "source": [
    "df = pd.read_csv('School_Explorer.csv')\n",
    "#df.info(verbose=True)"
   ]
  },
  {
   "cell_type": "markdown",
   "metadata": {},
   "source": [
    "A partir de deux colonnes de votre choix notées $X_i$, $X_j$, créer une nouvelle colonne valant $X_i * X_j$ et l'ajouter au dataframe. Faire de même créer une colonne $log(1 + X_p)$"
   ]
  },
  {
   "cell_type": "code",
   "execution_count": null,
   "metadata": {},
   "outputs": [],
   "source": []
  },
  {
   "cell_type": "markdown",
   "metadata": {},
   "source": [
    "Si on note $\\theta_{t+1}$ les paramètre à l'iteration $t+1$ de la descente de gradient, donner la formule qui relie $\\theta_{t+1}$, $\\theta_t$ et le gradient ainsi que tout autre paramètre utile"
   ]
  },
  {
   "cell_type": "code",
   "execution_count": null,
   "metadata": {},
   "outputs": [],
   "source": []
  },
  {
   "cell_type": "markdown",
   "metadata": {},
   "source": [
    "Créer une classe `LogisticRegression` et coder la méthode `_compute_cost` qui calcule le coût du modèle"
   ]
  },
  {
   "cell_type": "code",
   "execution_count": null,
   "metadata": {},
   "outputs": [],
   "source": []
  },
  {
   "cell_type": "markdown",
   "metadata": {},
   "source": [
    "Lancer une regression dessus avec différents paramètres de régularisation. Quels sont les effets sur les paramètre du modèle ? "
   ]
  },
  {
   "cell_type": "code",
   "execution_count": null,
   "metadata": {},
   "outputs": [],
   "source": []
  },
  {
   "cell_type": "markdown",
   "metadata": {},
   "source": [
    "Récupérer le contenu de la page web de votre choix"
   ]
  },
  {
   "cell_type": "code",
   "execution_count": null,
   "metadata": {},
   "outputs": [],
   "source": []
  }
 ],
 "metadata": {
  "kernelspec": {
   "display_name": "Python 3",
   "language": "python",
   "name": "python3"
  },
  "language_info": {
   "codemirror_mode": {
    "name": "ipython",
    "version": 3
   },
   "file_extension": ".py",
   "mimetype": "text/x-python",
   "name": "python",
   "nbconvert_exporter": "python",
   "pygments_lexer": "ipython3",
   "version": "3.6.4"
  }
 },
 "nbformat": 4,
 "nbformat_minor": 2
}
