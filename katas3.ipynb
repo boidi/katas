{
 "cells": [
  {
   "cell_type": "markdown",
   "metadata": {},
   "source": [
    "# Katas 3"
   ]
  },
  {
   "cell_type": "markdown",
   "metadata": {},
   "source": [
    "A l'aide du module os, créer une classe Folder permettant de lister les fichiers dans un dossier"
   ]
  },
  {
   "cell_type": "code",
   "execution_count": 2,
   "metadata": {},
   "outputs": [],
   "source": [
    "import os\n",
    "class Folder(object):\n",
    "    def __init__(self,path):\n",
    "        self.path=path\n",
    "    def lister_dir(self):\n",
    "        return list_dir(path)\n"
   ]
  },
  {
   "cell_type": "markdown",
   "metadata": {},
   "source": [
    "Créer une classe File permettant de manipuler un fichier : le renomer, le supprimer et obtenir des informations dessus (nom du fichier, taille, date de modification)\n",
    "\n",
    "Le constructeur devra prendre en argument le chemin du fichier à manipuler"
   ]
  },
  {
   "cell_type": "code",
   "execution_count": 3,
   "metadata": {},
   "outputs": [],
   "source": [
    "class File(object):\n",
    "    def __init__(self, file_path):\n",
    "        self.file_path=file_path\n",
    "    def open_file(self):\n",
    "        return open(file_path) # os.startfile(file_path)\n",
    "        \n"
   ]
  },
  {
   "cell_type": "markdown",
   "metadata": {},
   "source": [
    "Créer les sous classes ImageFile et TextFile et héritant de la classe File et implémentant une méthode read spécifique pour pouvoir les fichiers textes et images"
   ]
  },
  {
   "cell_type": "code",
   "execution_count": null,
   "metadata": {},
   "outputs": [],
   "source": [
    "class ImageFile(File):\n",
    "    def __init__(self):\n",
    "        "
   ]
  },
  {
   "cell_type": "markdown",
   "metadata": {},
   "source": [
    "Créer un dossier et initialiser un repository git dedans. Ajouter un fichier contenant les classes Files et folder. Les committer dans git."
   ]
  },
  {
   "cell_type": "markdown",
   "metadata": {},
   "source": [
    "Créer une branche feature-a et créer un fichier vide. L'ajouter à git et le commit. Retourner sur la branche master et vérifier qu'il n'y est pas. "
   ]
  },
  {
   "cell_type": "markdown",
   "metadata": {},
   "source": [
    "A l'aide de git Merge fusionner la branche feature-a dans la branche master"
   ]
  },
  {
   "cell_type": "markdown",
   "metadata": {},
   "source": [
    "Calculer le gradient de $f(x, y, z) = exp(x) * cos(z) + x^2 + ln(z) + y * x$"
   ]
  },
  {
   "cell_type": "markdown",
   "metadata": {},
   "source": [
    "Rapeler la formule de la fonction de coût pour la regression logistique et la coder."
   ]
  }
 ],
 "metadata": {
  "kernelspec": {
   "display_name": "Python 3",
   "language": "python",
   "name": "python3"
  },
  "language_info": {
   "codemirror_mode": {
    "name": "ipython",
    "version": 3
   },
   "file_extension": ".py",
   "mimetype": "text/x-python",
   "name": "python",
   "nbconvert_exporter": "python",
   "pygments_lexer": "ipython3",
   "version": "3.6.4"
  }
 },
 "nbformat": 4,
 "nbformat_minor": 2
}
