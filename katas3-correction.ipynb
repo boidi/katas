{
 "cells": [
  {
   "cell_type": "markdown",
   "metadata": {},
   "source": [
    "# Katas 3"
   ]
  },
  {
   "cell_type": "markdown",
   "metadata": {},
   "source": [
    "A l'aide du module os, créer une classe Folder permettant de lister les fichiers dans un dossier"
   ]
  },
  {
   "cell_type": "code",
   "execution_count": 5,
   "metadata": {},
   "outputs": [
    {
     "data": {
      "text/plain": [
       "['katas3.ipynb',\n",
       " '2016 School Explorer.csv',\n",
       " 'katas2-correction.ipynb',\n",
       " 'katas3-correction.ipynb',\n",
       " 'h.html',\n",
       " 'katas2.ipynb',\n",
       " 'data-science-for-good.zip',\n",
       " 'katas4.ipynb',\n",
       " 'D5 SHSAT Registrations and Testers.csv',\n",
       " 'katas1-correction.ipynb',\n",
       " 'notes.ipynb',\n",
       " 'katas1.ipynb']"
      ]
     },
     "execution_count": 5,
     "metadata": {},
     "output_type": "execute_result"
    }
   ],
   "source": [
    "import os\n",
    "\n",
    "class Folder(object):\n",
    "        \n",
    "    def __init__(self, folder):\n",
    "        \n",
    "        contents = os.listdir(folder)\n",
    "        self.path = folder\n",
    "        \n",
    "        self.files = [file for file in contents if os.path.isfile(file)]\n",
    "        self.folders = [file for file in contents if os.path.isdir(file)]\n",
    "            \n",
    "    def get_files(self):\n",
    "        return self.files\n",
    "    \n",
    "    def get_folders(self):\n",
    "        return self.folders\n",
    "        \n",
    "a = Folder('.')\n",
    "a.get_files()"
   ]
  },
  {
   "cell_type": "markdown",
   "metadata": {},
   "source": [
    "Créer une classe File permettant de manipuler un fichier : le renomer, le supprimer et obtenir des informations dessus (nom du fichier, taille, date de modification)\n",
    "\n",
    "Le constructeur devra prendre en argument le chemin du fichier à manipuler"
   ]
  },
  {
   "cell_type": "code",
   "execution_count": 10,
   "metadata": {},
   "outputs": [],
   "source": [
    "class File(object):\n",
    "    \n",
    "    def __init__(self, file_path):\n",
    "        \n",
    "        \n",
    "        self.file_path = file_path\n",
    "        self.basename = os.path.basename(file_path)\n",
    "        self.folder = os.path.dirname(file_path)\n",
    "        \n",
    "        \"\"\"\n",
    "            A completer\n",
    "        \"\"\"\n",
    "    def rename(self, new_name):\n",
    "                \n",
    "        os.rename(self.file_path, os.path.join(self.folder, new_name))\n",
    "        self.basename = new_name\n",
    "        \n",
    "        \n",
    "    def get_fullname(self):\n",
    "        return os.path.join(self.folder, self.basename)\n"
   ]
  },
  {
   "cell_type": "markdown",
   "metadata": {},
   "source": [
    "Créer les sous classes ImageFile et TextFile et héritant de la classe File et implémentant une méthode read spécifique pour pouvoir les fichiers textes et images"
   ]
  },
  {
   "cell_type": "code",
   "execution_count": 11,
   "metadata": {},
   "outputs": [
    {
     "data": {
      "text/plain": [
       "[\"<iframe src='https://webchat.botframework.com/embed/testlce?s=FQhCNyyCQjA.cwA.osM.XPz9hXKVV7iWdU7mq0K8TOi4S5BiVfp654knkRGKhkE'></iframe>\\n\"]"
      ]
     },
     "execution_count": 11,
     "metadata": {},
     "output_type": "execute_result"
    }
   ],
   "source": [
    "import imageio\n",
    "\n",
    "class ImageFile(File):\n",
    "    \n",
    "    def read(self):\n",
    "                \n",
    "        im = imageio.imread(self.get_fullname())\n",
    "        \n",
    "        return im\n",
    "        \n",
    "        \n",
    "class TextFile(File):\n",
    "    \n",
    "    def read(self):\n",
    "    \n",
    "        with open(self.get_fullname(), 'r') as f:\n",
    "            content = f.readlines()\n",
    "        \n",
    "        return content\n",
    "        \n",
    "        \n",
    "b = TextFile('h.html')        \n",
    "b.read()\n",
    "\n",
    "c = ImageFile('')"
   ]
  },
  {
   "cell_type": "markdown",
   "metadata": {},
   "source": [
    "Créer un dossier et initialiser un repository git dedans. Ajouter un fichier contenant les classes Files et folder. Les committer dans git."
   ]
  },
  {
   "cell_type": "markdown",
   "metadata": {},
   "source": [
    "Créer une branche feature-a et créer un fichier vide. L'ajouter à git et le commit. Retourner sur la branche master et vérifier qu'il n'y est pas. "
   ]
  },
  {
   "cell_type": "markdown",
   "metadata": {},
   "source": [
    "A l'aide de git Merge fusionner la branche feature-a dans la branche master"
   ]
  },
  {
   "cell_type": "markdown",
   "metadata": {},
   "source": [
    "Calculer le gradient de $f(x, y, z) = exp(x) * cos(z) + x^2 + ln(z) + y * x$"
   ]
  },
  {
   "cell_type": "markdown",
   "metadata": {},
   "source": [
    "Rapeler la formule de la fonction de coût pour la regression logistique et la coder."
   ]
  }
 ],
 "metadata": {
  "kernelspec": {
   "display_name": "Python 3",
   "language": "python",
   "name": "python3"
  },
  "language_info": {
   "codemirror_mode": {
    "name": "ipython",
    "version": 3
   },
   "file_extension": ".py",
   "mimetype": "text/x-python",
   "name": "python",
   "nbconvert_exporter": "python",
   "pygments_lexer": "ipython3",
   "version": "3.6.4"
  }
 },
 "nbformat": 4,
 "nbformat_minor": 2
}
